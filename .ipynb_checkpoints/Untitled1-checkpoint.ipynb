{
 "cells": [
  {
   "cell_type": "code",
   "execution_count": 57,
   "metadata": {},
   "outputs": [],
   "source": [
    "import numpy\n",
    "import matplotlib.pyplot as plt\n",
    "\n",
    "import json\n",
    "from matplotlib.animation import FuncAnimation\n",
    "plt.style.use('seaborn-pastel')"
   ]
  },
  {
   "cell_type": "code",
   "execution_count": null,
   "metadata": {},
   "outputs": [],
   "source": []
  },
  {
   "cell_type": "code",
   "execution_count": 58,
   "metadata": {},
   "outputs": [],
   "source": [
    "with open('results/2020-09-13 18:12:11.546456_result.json') as f:\n",
    "    data = json.load(f)"
   ]
  },
  {
   "cell_type": "code",
   "execution_count": 59,
   "metadata": {},
   "outputs": [
    {
     "data": {
      "text/plain": [
       "[{'board_size': [25, 25],\n",
       "  'players_scores': {'Third Champ': 1, 'Second Champ': 1, 'First Champ': 1},\n",
       "  'players_statuses': {'Third Champ': True,\n",
       "   'Second Champ': True,\n",
       "   'First Champ': True},\n",
       "  'players_positions': {'Third Champ': [[17, 17],\n",
       "    [16, 17],\n",
       "    [15, 17],\n",
       "    [15, 18]],\n",
       "   'Second Champ': [[17, 1], [16, 1], [15, 1], [15, 2]],\n",
       "   'First Champ': [[9, 0], [8, 0], [7, 0], [6, 0]]},\n",
       "  'previous_player_actions': {'Third Champ': 'RIGHT',\n",
       "   'Second Champ': 'RIGHT',\n",
       "   'First Champ': 'DOWN'}},\n",
       " {'board_size': [25, 25],\n",
       "  'players_scores': {'Third Champ': 1, 'Second Champ': 2, 'First Champ': 1},\n",
       "  'players_statuses': {'Third Champ': False,\n",
       "   'Second Champ': True,\n",
       "   'First Champ': False},\n",
       "  'players_positions': {'Third Champ': [[16, 17],\n",
       "    [15, 17],\n",
       "    [15, 18],\n",
       "    [15, 17]],\n",
       "   'Second Champ': [[16, 1], [15, 1], [15, 2], [14, 2]],\n",
       "   'First Champ': [[8, 0], [7, 0], [6, 0], [7, 0]]},\n",
       "  'previous_player_actions': {'Third Champ': 'LEFT',\n",
       "   'Second Champ': 'DOWN',\n",
       "   'First Champ': 'UP'}},\n",
       " {'board_size': [25, 25],\n",
       "  'players_scores': {'Third Champ': 1, 'Second Champ': 3, 'First Champ': 1},\n",
       "  'players_statuses': {'Third Champ': False,\n",
       "   'Second Champ': True,\n",
       "   'First Champ': False},\n",
       "  'players_positions': {'Third Champ': [[16, 17],\n",
       "    [15, 17],\n",
       "    [15, 18],\n",
       "    [15, 17]],\n",
       "   'Second Champ': [[15, 1], [15, 2], [14, 2], [14, 3]],\n",
       "   'First Champ': [[8, 0], [7, 0], [6, 0], [7, 0]]},\n",
       "  'previous_player_actions': {'Third Champ': 'LEFT',\n",
       "   'Second Champ': 'RIGHT',\n",
       "   'First Champ': 'UP'}},\n",
       " {'board_size': [25, 25],\n",
       "  'players_scores': {'Third Champ': 1, 'Second Champ': 3, 'First Champ': 1},\n",
       "  'players_statuses': {'Third Champ': False,\n",
       "   'Second Champ': False,\n",
       "   'First Champ': False},\n",
       "  'players_positions': {'Third Champ': [[16, 17],\n",
       "    [15, 17],\n",
       "    [15, 18],\n",
       "    [15, 17]],\n",
       "   'Second Champ': [[15, 2], [14, 2], [14, 3], [14, 2]],\n",
       "   'First Champ': [[8, 0], [7, 0], [6, 0], [7, 0]]},\n",
       "  'previous_player_actions': {'Third Champ': 'LEFT',\n",
       "   'Second Champ': 'LEFT',\n",
       "   'First Champ': 'UP'}},\n",
       " {'board_size': [25, 25],\n",
       "  'players_scores': {'Third Champ': 1, 'Second Champ': 3, 'First Champ': 1},\n",
       "  'players_statuses': {'Third Champ': False,\n",
       "   'Second Champ': False,\n",
       "   'First Champ': False},\n",
       "  'players_positions': {'Third Champ': [[16, 17],\n",
       "    [15, 17],\n",
       "    [15, 18],\n",
       "    [15, 17]],\n",
       "   'Second Champ': [[15, 2], [14, 2], [14, 3], [14, 2]],\n",
       "   'First Champ': [[8, 0], [7, 0], [6, 0], [7, 0]]},\n",
       "  'previous_player_actions': {'Third Champ': 'LEFT',\n",
       "   'Second Champ': 'LEFT',\n",
       "   'First Champ': 'UP'}}]"
      ]
     },
     "execution_count": 59,
     "metadata": {},
     "output_type": "execute_result"
    }
   ],
   "source": [
    "data = data['states']\n",
    "data"
   ]
  },
  {
   "cell_type": "code",
   "execution_count": 60,
   "metadata": {},
   "outputs": [
    {
     "data": {
      "image/png": "[encoded data removed]",
      "text/plain": [
       "<Figure size 432x288 with 1 Axes>"
      ]
     },
     "metadata": {
      "needs_background": "light"
     },
     "output_type": "display_data"
    }
   ],
   "source": [
    "\n",
    "def get_color_by_player_name(player_name):\n",
    "    return hash(player_name) % 1000\n",
    "\n",
    "\n",
    "def build_board_from_sate(state: dict):\n",
    "    board_size = state['board_size']\n",
    "    board = [[0 for j in range(board_size[1])] for i in range(board_size[0])]\n",
    "    for player, positions in state['players_positions'].items():\n",
    "        \n",
    "        color = get_color_by_player_name(player)\n",
    "        \n",
    "        if not state['players_statuses'][player]:\n",
    "            color = 0\n",
    "            \n",
    "        for p in positions[:-1]:\n",
    "            board[p[0]][p[1]] = get_color_by_player_name(player)\n",
    "        \n",
    "        board[positions[-1][0]][positions[-1][1]] = min((get_color_by_player_name(player) + 10), 1000)\n",
    "            \n",
    "    return board\n",
    "\n",
    "\n",
    "\n",
    "fig, ax = plt.subplots()\n",
    "im = ax.imshow(build_board_from_sate(data[0]))\n",
    "\n",
    "\n",
    "def init():\n",
    "    im.set_data(build_board_from_sate(data[0]))\n",
    "    return im,\n",
    "\n",
    "def animate(i):\n",
    "    im.set_data(build_board_from_sate(data[i]))\n",
    "    return im,\n",
    " \n",
    "anim = FuncAnimation(fig, animate, init_func=init,\n",
    "                               frames=len(data), interval=200, blit=True)\n",
    " \n",
    " \n",
    "anim.save('worm_fight.gif', writer='imagemagick')"
   ]
  },
  {
   "cell_type": "code",
   "execution_count": null,
   "metadata": {},
   "outputs": [],
   "source": []
  }
 ],
 "metadata": {
  "kernelspec": {
   "display_name": "Python 3",
   "language": "python",
   "name": "python3"
  },
  "language_info": {
   "codemirror_mode": {
    "name": "ipython",
    "version": 3
   },
   "file_extension": ".py",
   "mimetype": "text/x-python",
   "name": "python",
   "nbconvert_exporter": "python",
   "pygments_lexer": "ipython3",
   "version": "3.8.2"
  }
 },
 "nbformat": 4,
 "nbformat_minor": 4
}
